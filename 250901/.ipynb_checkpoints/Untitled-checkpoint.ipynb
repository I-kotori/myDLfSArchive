{
 "cells": [
  {
   "cell_type": "code",
   "execution_count": 9,
   "id": "b73c33c1-2c19-472b-9208-d6c5a2b4aeac",
   "metadata": {},
   "outputs": [
    {
     "name": "stdin",
     "output_type": "stream",
     "text": [
      " 1 1\n"
     ]
    },
    {
     "name": "stdout",
     "output_type": "stream",
     "text": [
      "TRUE\n"
     ]
    }
   ],
   "source": [
    "# AND gate\n",
    "a, b = map(int, input().split()) # x1과 x2를 입력받음(0과 1로 표현됨)\n",
    "w1 = 0.5 # 가중치 1\n",
    "w2 = 0.5 # 가중치 2\n",
    "theta = 0.7 # 임계값\n",
    "y = a * w1 + b * w2 # 퍼셉트론 연산\n",
    "if y > theta : print(\"TRUE\") # 결과로 임계값보다 높다면 TRUE(1)\n",
    "else : print(\"FALSE\") # 아닌 경우에 FALSE(0)"
   ]
  },
  {
   "cell_type": "code",
   "execution_count": 17,
   "id": "7b8a9065-0061-4b86-a9a0-7f17a02330eb",
   "metadata": {},
   "outputs": [
    {
     "name": "stdin",
     "output_type": "stream",
     "text": [
      " 1 1\n"
     ]
    },
    {
     "name": "stdout",
     "output_type": "stream",
     "text": [
      "FALSE\n"
     ]
    }
   ],
   "source": [
    "# NAND gate\n",
    "a, b = map(int, input().split())\n",
    "w1 = 0.5\n",
    "w2 = 0.5\n",
    "theta = 0.7\n",
    "y = a * w1 + b * w2\n",
    "if y > theta : print(\"FALSE\") # AND 게이트와 반대의 출력값을 갖기 때문에\n",
    "else : print(\"TRUE\") # AND 게이트와 출력만 반대로 하면 된다."
   ]
  },
  {
   "cell_type": "code",
   "execution_count": 1,
   "id": "8ea92c33-5f2b-473e-a536-d7958a35435b",
   "metadata": {},
   "outputs": [
    {
     "name": "stdin",
     "output_type": "stream",
     "text": [
      " 1 1\n"
     ]
    },
    {
     "name": "stdout",
     "output_type": "stream",
     "text": [
      "TRUE\n"
     ]
    }
   ],
   "source": [
    "# OR gate\n",
    "a, b = map(int, input().split())\n",
    "w1 = 0.5\n",
    "w2 = 0.5\n",
    "theta = 0.5\n",
    "y = a * w1 + b * w2\n",
    "if y < theta : print(\"FALSE\") # 임계치랑 같거나 작은 경우에는 0\n",
    "else : print(\"TRUE\") # 그냥 임계치보다 크기만 하면 이렇게 된다."
   ]
  },
  {
   "cell_type": "code",
   "execution_count": 10,
   "id": "037be6a1-676c-4a9d-902f-d4e289f69ed4",
   "metadata": {},
   "outputs": [
    {
     "name": "stdout",
     "output_type": "stream",
     "text": [
      "1\n",
      "0\n",
      "1\n"
     ]
    }
   ],
   "source": [
    "import numpy as np\n",
    "def AND(x1, x2):\n",
    "    x = np.array([x1, x2])\n",
    "    w1 = 0.5\n",
    "    w2 = 0.5\n",
    "    w = np.array([w1, w2])\n",
    "    b = -0.7\n",
    "    y = np.sum(x*w) + b\n",
    "    if y <= 0 : return 0\n",
    "    else : return 1\n",
    "        \n",
    "def NAND(x1, x2):\n",
    "    x = np.array([x1, x2])\n",
    "    w1 = 0.5\n",
    "    w2 = 0.5\n",
    "    w = np.array([w1, w2])\n",
    "    b = -0.7\n",
    "    y = np.sum(x*w) + b\n",
    "    if y <= 0 : return 1\n",
    "    else : return 0\n",
    "        \n",
    "def OR(x1, x2):\n",
    "    x = np.array([x1, x2])\n",
    "    w1 = 0.5\n",
    "    w2 = 0.5\n",
    "    w = np.array([w1, w2])\n",
    "    b = -0.2\n",
    "    y = np.sum(x*w) + b\n",
    "    if y <= 0 : return 1\n",
    "    else : return 0\n",
    "        \n",
    "print(AND(1, 1))\n",
    "print(NAND(1, 1))\n",
    "print(OR(0, 0))"
   ]
  },
  {
   "cell_type": "code",
   "execution_count": null,
   "id": "2077fae6-3393-4e8a-bad3-0eb119747344",
   "metadata": {},
   "outputs": [],
   "source": []
  }
 ],
 "metadata": {
  "kernelspec": {
   "display_name": "Python 3 (ipykernel)",
   "language": "python",
   "name": "python3"
  },
  "language_info": {
   "codemirror_mode": {
    "name": "ipython",
    "version": 3
   },
   "file_extension": ".py",
   "mimetype": "text/x-python",
   "name": "python",
   "nbconvert_exporter": "python",
   "pygments_lexer": "ipython3",
   "version": "3.13.7"
  }
 },
 "nbformat": 4,
 "nbformat_minor": 5
}
