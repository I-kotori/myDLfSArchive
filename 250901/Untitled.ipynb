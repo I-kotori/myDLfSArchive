{
 "cells": [
  {
   "cell_type": "code",
   "execution_count": 9,
   "id": "b73c33c1-2c19-472b-9208-d6c5a2b4aeac",
   "metadata": {},
   "outputs": [
    {
     "name": "stdin",
     "output_type": "stream",
     "text": [
      " 1 1\n"
     ]
    },
    {
     "name": "stdout",
     "output_type": "stream",
     "text": [
      "TRUE\n"
     ]
    }
   ],
   "source": [
    "# AND gate\n",
    "a, b = map(int, input().split()) # x1과 x2를 입력받음(0과 1로 표현됨)\n",
    "w1 = 0.5 # 가중치 1\n",
    "w2 = 0.5 # 가중치 2\n",
    "theta = 0.7 # 임계값\n",
    "y = a * w1 + b * w2 # 퍼셉트론 연산\n",
    "if y > theta : print(\"TRUE\") # 결과로 임계값보다 높다면 TRUE(1)\n",
    "else : print(\"FALSE\") # 아닌 경우에 FALSE(0)"
   ]
  },
  {
   "cell_type": "code",
   "execution_count": 17,
   "id": "7b8a9065-0061-4b86-a9a0-7f17a02330eb",
   "metadata": {},
   "outputs": [
    {
     "name": "stdin",
     "output_type": "stream",
     "text": [
      " 1 1\n"
     ]
    },
    {
     "name": "stdout",
     "output_type": "stream",
     "text": [
      "FALSE\n"
     ]
    }
   ],
   "source": [
    "# NAND gate\n",
    "a, b = map(int, input().split())\n",
    "w1 = 0.5\n",
    "w2 = 0.5\n",
    "theta = 0.7\n",
    "y = a * w1 + b * w2\n",
    "if y > theta : print(\"FALSE\") # AND 게이트와 반대의 출력값을 갖기 때문에\n",
    "else : print(\"TRUE\") # AND 게이트와 출력만 반대로 하면 된다."
   ]
  },
  {
   "cell_type": "code",
   "execution_count": null,
   "id": "8ea92c33-5f2b-473e-a536-d7958a35435b",
   "metadata": {},
   "outputs": [],
   "source": []
  }
 ],
 "metadata": {
  "kernelspec": {
   "display_name": "Python 3 (ipykernel)",
   "language": "python",
   "name": "python3"
  },
  "language_info": {
   "codemirror_mode": {
    "name": "ipython",
    "version": 3
   },
   "file_extension": ".py",
   "mimetype": "text/x-python",
   "name": "python",
   "nbconvert_exporter": "python",
   "pygments_lexer": "ipython3",
   "version": "3.13.7"
  }
 },
 "nbformat": 4,
 "nbformat_minor": 5
}
