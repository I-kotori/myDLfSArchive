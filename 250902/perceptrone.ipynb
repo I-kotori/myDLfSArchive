{
 "cells": [
  {
   "cell_type": "code",
   "execution_count": 8,
   "id": "49d6214e-3e97-468a-a414-8c111f50f0f7",
   "metadata": {},
   "outputs": [
    {
     "name": "stdout",
     "output_type": "stream",
     "text": [
      "1\n",
      "0\n",
      "1\n",
      "1\n"
     ]
    }
   ],
   "source": [
    "import numpy as np\n",
    "# perceptrone using bias\n",
    "def AND(x1, x2):\n",
    "    x = np.array([x1, x2]) # input data\n",
    "    w1 = 0.5\n",
    "    w2 = 0.5\n",
    "    w = np.array([w1, w2]) # weight\n",
    "    b = 0.7 # bias\n",
    "    b = b * -1 # bias is plus-minus reversed theta\n",
    "    y = b + np.sum(x*w) # output\n",
    "    if y > 0: # judgement\n",
    "        return 1\n",
    "    else :\n",
    "        return 0\n",
    "def NAND(x1, x2):\n",
    "    x = np.array([x1, x2]) # input data\n",
    "    w1 = 0.5\n",
    "    w2 = 0.5\n",
    "    w = np.array([w1, w2]) # weight\n",
    "    b = 0.7 # bias\n",
    "    b = b * -1 # bias is plus-minus reversed theta\n",
    "    y = b + np.sum(x*w) # output\n",
    "    if y <= 0: # judgement\n",
    "        return 1\n",
    "    else :\n",
    "        return 0\n",
    "def OR(x1, x2):\n",
    "    x = np.array([x1, x2]) # input data\n",
    "    w1 = 0.5\n",
    "    w2 = 0.5\n",
    "    w = np.array([w1, w2]) # weight\n",
    "    b = 0.2 # bias\n",
    "    b = b * -1 # bias is plus-minus reversed theta\n",
    "    y = b + np.sum(x*w) # output\n",
    "    if y > 0: # judgement\n",
    "        return 1\n",
    "    else :\n",
    "        return 0\n",
    "def XOR(x1, x2):\n",
    "    s1 = NAND(x1, x2)\n",
    "    s2 = OR(x1, x2)\n",
    "    y = AND(s1, s2)\n",
    "    return y\n",
    "    \n",
    "print(AND(1, 1))\n",
    "print(NAND(1, 1))\n",
    "print(OR(1, 0))\n",
    "print(XOR(1, 0))"
   ]
  },
  {
   "cell_type": "code",
   "execution_count": null,
   "id": "31baf901-759c-4995-b117-2098efed7f02",
   "metadata": {},
   "outputs": [],
   "source": []
  }
 ],
 "metadata": {
  "kernelspec": {
   "display_name": "Python 3 (ipykernel)",
   "language": "python",
   "name": "python3"
  },
  "language_info": {
   "codemirror_mode": {
    "name": "ipython",
    "version": 3
   },
   "file_extension": ".py",
   "mimetype": "text/x-python",
   "name": "python",
   "nbconvert_exporter": "python",
   "pygments_lexer": "ipython3",
   "version": "3.13.7"
  }
 },
 "nbformat": 4,
 "nbformat_minor": 5
}
